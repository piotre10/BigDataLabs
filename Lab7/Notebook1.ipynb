{
 "cells": [
  {
   "cell_type": "code",
   "execution_count": 43,
   "id": "ea4ab24e-2956-4472-a30c-9c2db89b5317",
   "metadata": {
    "collapsed": false,
    "jupyter": {
     "outputs_hidden": false
    },
    "tags": []
   },
   "outputs": [],
   "source": [
    "import pyspark\n",
    "from pyspark.sql.functions import col, explode, arrays_zip\n"
   ]
  },
  {
   "cell_type": "code",
   "execution_count": null,
   "id": "477a837a-1900-475d-b1bb-f12fa4bf4d9f",
   "metadata": {},
   "outputs": [],
   "source": []
  },
  {
   "cell_type": "code",
   "execution_count": 2,
   "id": "b17fab5c-73ac-42c1-a104-22527a98d047",
   "metadata": {
    "collapsed": false,
    "jupyter": {
     "outputs_hidden": false
    },
    "tags": []
   },
   "outputs": [
    {
     "name": "stderr",
     "output_type": "stream",
     "text": [
      "Setting default log level to \"WARN\".\n",
      "To adjust logging level use sc.setLogLevel(newLevel). For SparkR, use setLogLevel(newLevel).\n",
      "23/06/23 15:15:55 WARN NativeCodeLoader: Unable to load native-hadoop library for your platform... using builtin-java classes where applicable\n"
     ]
    }
   ],
   "source": [
    "spark = pyspark.sql.SparkSession.builder \\\n",
    "    .appName('Lab7') \\\n",
    "    .config('spark.driver.extraClassPath', '/opt/sqljdbc_4.2/enu/jre8/sqljdbc42.jar') \\\n",
    "    .config('spark.executor.extraClassPath', '/opt/sqljdbc_4.2/enu/jre8/sqljdbc42.jar') \\\n",
    "    .getOrCreate()"
   ]
  },
  {
   "cell_type": "markdown",
   "id": "295c2ebe-5139-44f2-935e-f37b10380055",
   "metadata": {},
   "source": [
    "#### Spark server is accessible here (click on Spark UI):"
   ]
  },
  {
   "cell_type": "code",
   "execution_count": 3,
   "id": "bb4207a8-75f9-4704-8b58-f838968dc8d7",
   "metadata": {
    "collapsed": false,
    "jupyter": {
     "outputs_hidden": false
    },
    "tags": []
   },
   "outputs": [
    {
     "data": {
      "text/html": [
       "\n",
       "            <div>\n",
       "                <p><b>SparkSession - in-memory</b></p>\n",
       "                \n",
       "        <div>\n",
       "            <p><b>SparkContext</b></p>\n",
       "\n",
       "            <p><a href=\"http://Dell-Vostro:4040\">Spark UI</a></p>\n",
       "\n",
       "            <dl>\n",
       "              <dt>Version</dt>\n",
       "                <dd><code>v3.4.1</code></dd>\n",
       "              <dt>Master</dt>\n",
       "                <dd><code>local[*]</code></dd>\n",
       "              <dt>AppName</dt>\n",
       "                <dd><code>Lab7</code></dd>\n",
       "            </dl>\n",
       "        </div>\n",
       "        \n",
       "            </div>\n",
       "        "
      ],
      "text/plain": [
       "<pyspark.sql.session.SparkSession at 0x7f075811e590>"
      ]
     },
     "execution_count": 3,
     "metadata": {},
     "output_type": "execute_result"
    }
   ],
   "source": [
    "spark"
   ]
  },
  {
   "cell_type": "code",
   "execution_count": 4,
   "id": "ab9fa822-63bf-40c8-a123-558312ed09bf",
   "metadata": {
    "tags": []
   },
   "outputs": [],
   "source": [
    "def display_head(df: pyspark.sql.DataFrame, n: int):\n",
    "    return df.limit(n).toPandas().head(n)"
   ]
  },
  {
   "cell_type": "code",
   "execution_count": 39,
   "id": "c79c929c-9bdc-4ce5-bcd5-51edc1e4f26e",
   "metadata": {},
   "outputs": [],
   "source": [
    "df = spark.read \\\n",
    "      .format(\"json\") \\\n",
    "      .option(\"multiline\", \"true\") \\\n",
    "      .load(\"brzydki.json\") \\\n",
    "      .select(col('features.type').alias('ftype'),\n",
    "             'features.geometry.type',\n",
    "             'features.properties.featureId',\n",
    "             'features.properties.featureGroup',\n",
    "             'features.properties.changeEventType',\n",
    "             'features.properties.validFromTimestamp',\n",
    "             'JobDetails.JobId',\n",
    "             'JobDetails.jobName',\n",
    "             'JobDetails.jobType',\n",
    "             'maiaExtractProcessDetails.extractorVersion',\n",
    "             'maiaExtractProcessDetails.extractionTimestamp',\n",
    "             'maiaExtractProcessDetails.extractMode')"
   ]
  },
  {
   "cell_type": "code",
   "execution_count": 40,
   "id": "f8af6d3f-10be-4b26-87f0-13b8e35bcda2",
   "metadata": {},
   "outputs": [
    {
     "data": {
      "text/html": [
       "<div>\n",
       "<style scoped>\n",
       "    .dataframe tbody tr th:only-of-type {\n",
       "        vertical-align: middle;\n",
       "    }\n",
       "\n",
       "    .dataframe tbody tr th {\n",
       "        vertical-align: top;\n",
       "    }\n",
       "\n",
       "    .dataframe thead th {\n",
       "        text-align: right;\n",
       "    }\n",
       "</style>\n",
       "<table border=\"1\" class=\"dataframe\">\n",
       "  <thead>\n",
       "    <tr style=\"text-align: right;\">\n",
       "      <th></th>\n",
       "      <th>ftype</th>\n",
       "      <th>type</th>\n",
       "      <th>featureId</th>\n",
       "      <th>featureGroup</th>\n",
       "      <th>changeEventType</th>\n",
       "      <th>validFromTimestamp</th>\n",
       "      <th>JobId</th>\n",
       "      <th>jobName</th>\n",
       "      <th>jobType</th>\n",
       "      <th>extractorVersion</th>\n",
       "      <th>extractionTimestamp</th>\n",
       "      <th>extractMode</th>\n",
       "    </tr>\n",
       "  </thead>\n",
       "  <tbody>\n",
       "    <tr>\n",
       "      <th>0</th>\n",
       "      <td>[Feature, Feature]</td>\n",
       "      <td>[Polygon, LineString]</td>\n",
       "      <td>[a6a7e7ff-71d3-e455-0a2c5c6a, 17e3f1c4-1802-49...</td>\n",
       "      <td>[Named Extent+Group+None, Network+Line+None]</td>\n",
       "      <td>[update, delete]</td>\n",
       "      <td>[2022-08-06T03:29:46Z, 2022-08-06T03:29:46Z]</td>\n",
       "      <td>345345</td>\n",
       "      <td>XSDR_344985_WGZX_2022_A008_V</td>\n",
       "      <td>Stereo</td>\n",
       "      <td>1.10</td>\n",
       "      <td>2022-08-06T03:30:35Z</td>\n",
       "      <td>Incremental Update</td>\n",
       "    </tr>\n",
       "  </tbody>\n",
       "</table>\n",
       "</div>"
      ],
      "text/plain": [
       "                ftype                   type  \\\n",
       "0  [Feature, Feature]  [Polygon, LineString]   \n",
       "\n",
       "                                           featureId  \\\n",
       "0  [a6a7e7ff-71d3-e455-0a2c5c6a, 17e3f1c4-1802-49...   \n",
       "\n",
       "                                   featureGroup   changeEventType  \\\n",
       "0  [Named Extent+Group+None, Network+Line+None]  [update, delete]   \n",
       "\n",
       "                             validFromTimestamp   JobId  \\\n",
       "0  [2022-08-06T03:29:46Z, 2022-08-06T03:29:46Z]  345345   \n",
       "\n",
       "                        jobName jobType extractorVersion  \\\n",
       "0  XSDR_344985_WGZX_2022_A008_V  Stereo             1.10   \n",
       "\n",
       "    extractionTimestamp         extractMode  \n",
       "0  2022-08-06T03:30:35Z  Incremental Update  "
      ]
     },
     "execution_count": 40,
     "metadata": {},
     "output_type": "execute_result"
    }
   ],
   "source": [
    "display_head(df, 5)"
   ]
  },
  {
   "cell_type": "code",
   "execution_count": 50,
   "id": "05a4d085-5bb9-4226-9fa2-4936b68ef883",
   "metadata": {},
   "outputs": [],
   "source": [
    "df = df.withColumn('temp', arrays_zip('ftype', 'type', 'featureId', 'featureGroup', 'changeEventType', 'validFromTimestamp')) \\\n",
    "              .withColumn('temp', explode('temp')) \\\n",
    "              .select('JobId',\n",
    "                     'jobName',\n",
    "                     'JobType',\n",
    "                     'extractorVersion',\n",
    "                     'extractionTimestamp',\n",
    "                     'extractMode',\n",
    "                     col('temp.ftype').alias('featureType'),\n",
    "                     col('temp.type').alias('Type'),\n",
    "                     col('temp.featureId').alias('featureId'),\n",
    "                     col('temp.featureGroup').alias('featureGroup'))\n"
   ]
  },
  {
   "cell_type": "code",
   "execution_count": 51,
   "id": "3013dd13-176f-4842-bdda-f505adf58690",
   "metadata": {},
   "outputs": [
    {
     "data": {
      "text/html": [
       "<div>\n",
       "<style scoped>\n",
       "    .dataframe tbody tr th:only-of-type {\n",
       "        vertical-align: middle;\n",
       "    }\n",
       "\n",
       "    .dataframe tbody tr th {\n",
       "        vertical-align: top;\n",
       "    }\n",
       "\n",
       "    .dataframe thead th {\n",
       "        text-align: right;\n",
       "    }\n",
       "</style>\n",
       "<table border=\"1\" class=\"dataframe\">\n",
       "  <thead>\n",
       "    <tr style=\"text-align: right;\">\n",
       "      <th></th>\n",
       "      <th>JobId</th>\n",
       "      <th>jobName</th>\n",
       "      <th>JobType</th>\n",
       "      <th>extractorVersion</th>\n",
       "      <th>extractionTimestamp</th>\n",
       "      <th>extractMode</th>\n",
       "      <th>featureType</th>\n",
       "      <th>Type</th>\n",
       "      <th>featureId</th>\n",
       "      <th>featureGroup</th>\n",
       "    </tr>\n",
       "  </thead>\n",
       "  <tbody>\n",
       "    <tr>\n",
       "      <th>0</th>\n",
       "      <td>345345</td>\n",
       "      <td>XSDR_344985_WGZX_2022_A008_V</td>\n",
       "      <td>Stereo</td>\n",
       "      <td>1.10</td>\n",
       "      <td>2022-08-06T03:30:35Z</td>\n",
       "      <td>Incremental Update</td>\n",
       "      <td>Feature</td>\n",
       "      <td>Polygon</td>\n",
       "      <td>a6a7e7ff-71d3-e455-0a2c5c6a</td>\n",
       "      <td>Named Extent+Group+None</td>\n",
       "    </tr>\n",
       "    <tr>\n",
       "      <th>1</th>\n",
       "      <td>345345</td>\n",
       "      <td>XSDR_344985_WGZX_2022_A008_V</td>\n",
       "      <td>Stereo</td>\n",
       "      <td>1.10</td>\n",
       "      <td>2022-08-06T03:30:35Z</td>\n",
       "      <td>Incremental Update</td>\n",
       "      <td>Feature</td>\n",
       "      <td>LineString</td>\n",
       "      <td>17e3f1c4-1802-4952-a826-ba148d063716</td>\n",
       "      <td>Network+Line+None</td>\n",
       "    </tr>\n",
       "  </tbody>\n",
       "</table>\n",
       "</div>"
      ],
      "text/plain": [
       "    JobId                       jobName JobType extractorVersion  \\\n",
       "0  345345  XSDR_344985_WGZX_2022_A008_V  Stereo             1.10   \n",
       "1  345345  XSDR_344985_WGZX_2022_A008_V  Stereo             1.10   \n",
       "\n",
       "    extractionTimestamp         extractMode featureType        Type  \\\n",
       "0  2022-08-06T03:30:35Z  Incremental Update     Feature     Polygon   \n",
       "1  2022-08-06T03:30:35Z  Incremental Update     Feature  LineString   \n",
       "\n",
       "                              featureId             featureGroup  \n",
       "0           a6a7e7ff-71d3-e455-0a2c5c6a  Named Extent+Group+None  \n",
       "1  17e3f1c4-1802-4952-a826-ba148d063716        Network+Line+None  "
      ]
     },
     "execution_count": 51,
     "metadata": {},
     "output_type": "execute_result"
    }
   ],
   "source": [
    "display_head(df, 5)"
   ]
  }
 ],
 "metadata": {
  "kernelspec": {
   "display_name": "python3-OS",
   "language": "python",
   "name": "python3-os"
  },
  "language_info": {
   "codemirror_mode": {
    "name": "ipython",
    "version": 3
   },
   "file_extension": ".py",
   "mimetype": "text/x-python",
   "name": "python",
   "nbconvert_exporter": "python",
   "pygments_lexer": "ipython3",
   "version": "3.11.3"
  }
 },
 "nbformat": 4,
 "nbformat_minor": 5
}
