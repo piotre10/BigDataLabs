{
 "cells": [
  {
   "cell_type": "code",
   "execution_count": 1,
   "outputs": [],
   "source": [
    "import pyspark"
   ],
   "metadata": {
    "collapsed": false
   }
  },
  {
   "cell_type": "code",
   "execution_count": 2,
   "outputs": [
    {
     "name": "stderr",
     "output_type": "stream",
     "text": [
      "Setting default log level to \"WARN\".\n",
      "To adjust logging level use sc.setLogLevel(newLevel). For SparkR, use setLogLevel(newLevel).\n"
     ]
    },
    {
     "name": "stdout",
     "output_type": "stream",
     "text": [
      "23/04/10 20:17:00 WARN NativeCodeLoader: Unable to load native-hadoop library for your platform... using builtin-java classes where applicable\n"
     ]
    }
   ],
   "source": [
    "spark = pyspark.sql.SparkSession.builder \\\n",
    "    .appName('Lab4') \\\n",
    "    .config('spark.sql.legacy.timeParserPolicy', 'LEGACY') \\\n",
    "    .getOrCreate()"
   ],
   "metadata": {
    "collapsed": false
   }
  },
  {
   "cell_type": "markdown",
   "source": [
    "#### Spark server is accessible here (click on Spark UI):"
   ],
   "metadata": {
    "collapsed": false
   }
  },
  {
   "cell_type": "code",
   "execution_count": 3,
   "outputs": [
    {
     "data": {
      "text/plain": "<pyspark.sql.session.SparkSession at 0x7f3210608790>",
      "text/html": "\n            <div>\n                <p><b>SparkSession - in-memory</b></p>\n                \n        <div>\n            <p><b>SparkContext</b></p>\n\n            <p><a href=\"http://fedora:4040\">Spark UI</a></p>\n\n            <dl>\n              <dt>Version</dt>\n                <dd><code>v3.3.2</code></dd>\n              <dt>Master</dt>\n                <dd><code>local[*]</code></dd>\n              <dt>AppName</dt>\n                <dd><code>Lab4</code></dd>\n            </dl>\n        </div>\n        \n            </div>\n        "
     },
     "execution_count": 3,
     "metadata": {},
     "output_type": "execute_result"
    }
   ],
   "source": [
    "spark"
   ],
   "metadata": {
    "collapsed": false
   }
  },
  {
   "cell_type": "code",
   "execution_count": 4,
   "outputs": [],
   "source": [
    "def display_head(df: pyspark.sql.DataFrame, n: int = 10):\n",
    "    return df.limit(n).toPandas().head(n)"
   ],
   "metadata": {
    "collapsed": false
   }
  },
  {
   "cell_type": "markdown",
   "source": [
    "## Zadanie 3"
   ],
   "metadata": {
    "collapsed": false
   }
  },
  {
   "cell_type": "code",
   "execution_count": 5,
   "outputs": [],
   "source": [
    "from pyspark.sql.types import StructType, StructField, IntegerType, DateType, StringType\n",
    "from datetime import datetime"
   ],
   "metadata": {
    "collapsed": false
   }
  },
  {
   "cell_type": "code",
   "execution_count": 6,
   "outputs": [],
   "source": [
    "strptime = datetime.strptime\n",
    "date_format = '%Y-%m-%d'\n",
    "transactions_data = [\n",
    "    ( 1, strptime('2011-01-01', date_format).date(), 500),\n",
    "    ( 1, strptime('2011-01-15', date_format).date(), 50),\n",
    "    ( 1, strptime('2011-01-22', date_format).date(), 250),\n",
    "    ( 1, strptime('2011-01-24', date_format).date(), 75),\n",
    "    ( 1, strptime('2011-01-26', date_format).date(), 125),\n",
    "    ( 1, strptime('2011-01-28', date_format).date(), 175),\n",
    "    ( 2, strptime('2011-01-01', date_format).date(), 500),\n",
    "    ( 2, strptime('2011-01-15', date_format).date(), 50),\n",
    "    ( 2, strptime('2011-01-22', date_format).date(), 25),\n",
    "    ( 2, strptime('2011-01-23', date_format).date(), 125),\n",
    "    ( 2, strptime('2011-01-26', date_format).date(), 200),\n",
    "    ( 2, strptime('2011-01-29', date_format).date(), 250),\n",
    "    ( 3, strptime('2011-01-01', date_format).date(), 500),\n",
    "    ( 3, strptime('2011-01-15', date_format).date(), 50 ),\n",
    "    ( 3, strptime('2011-01-22', date_format).date(), 5000),\n",
    "    ( 3, strptime('2011-01-25', date_format).date(), 550),\n",
    "    ( 3, strptime('2011-01-27', date_format).date(), 95 ),\n",
    "    ( 3, strptime('2011-01-30', date_format).date(), 2500)\n",
    "]\n",
    "\n",
    "transaction_schema = StructType([\n",
    "    StructField('account_id', IntegerType()),\n",
    "    StructField('transaction_date', DateType()),\n",
    "    StructField('transaction_amount', IntegerType())\n",
    "])\n",
    "\n",
    "transactions_df = spark.createDataFrame(transactions_data, transaction_schema)"
   ],
   "metadata": {
    "collapsed": false
   }
  },
  {
   "cell_type": "code",
   "execution_count": 7,
   "outputs": [
    {
     "name": "stderr",
     "output_type": "stream",
     "text": [
      "                                                                                \r"
     ]
    },
    {
     "data": {
      "text/plain": "   account_id transaction_date  transaction_amount\n0           1       2011-01-01                 500\n1           1       2011-01-15                  50\n2           1       2011-01-22                 250\n3           1       2011-01-24                  75\n4           1       2011-01-26                 125\n5           1       2011-01-28                 175\n6           2       2011-01-01                 500\n7           2       2011-01-15                  50\n8           2       2011-01-22                  25\n9           2       2011-01-23                 125",
      "text/html": "<div>\n<style scoped>\n    .dataframe tbody tr th:only-of-type {\n        vertical-align: middle;\n    }\n\n    .dataframe tbody tr th {\n        vertical-align: top;\n    }\n\n    .dataframe thead th {\n        text-align: right;\n    }\n</style>\n<table border=\"1\" class=\"dataframe\">\n  <thead>\n    <tr style=\"text-align: right;\">\n      <th></th>\n      <th>account_id</th>\n      <th>transaction_date</th>\n      <th>transaction_amount</th>\n    </tr>\n  </thead>\n  <tbody>\n    <tr>\n      <th>0</th>\n      <td>1</td>\n      <td>2011-01-01</td>\n      <td>500</td>\n    </tr>\n    <tr>\n      <th>1</th>\n      <td>1</td>\n      <td>2011-01-15</td>\n      <td>50</td>\n    </tr>\n    <tr>\n      <th>2</th>\n      <td>1</td>\n      <td>2011-01-22</td>\n      <td>250</td>\n    </tr>\n    <tr>\n      <th>3</th>\n      <td>1</td>\n      <td>2011-01-24</td>\n      <td>75</td>\n    </tr>\n    <tr>\n      <th>4</th>\n      <td>1</td>\n      <td>2011-01-26</td>\n      <td>125</td>\n    </tr>\n    <tr>\n      <th>5</th>\n      <td>1</td>\n      <td>2011-01-28</td>\n      <td>175</td>\n    </tr>\n    <tr>\n      <th>6</th>\n      <td>2</td>\n      <td>2011-01-01</td>\n      <td>500</td>\n    </tr>\n    <tr>\n      <th>7</th>\n      <td>2</td>\n      <td>2011-01-15</td>\n      <td>50</td>\n    </tr>\n    <tr>\n      <th>8</th>\n      <td>2</td>\n      <td>2011-01-22</td>\n      <td>25</td>\n    </tr>\n    <tr>\n      <th>9</th>\n      <td>2</td>\n      <td>2011-01-23</td>\n      <td>125</td>\n    </tr>\n  </tbody>\n</table>\n</div>"
     },
     "execution_count": 7,
     "metadata": {},
     "output_type": "execute_result"
    }
   ],
   "source": [
    "display_head(transactions_df, 10)"
   ],
   "metadata": {
    "collapsed": false
   }
  },
  {
   "cell_type": "code",
   "execution_count": 8,
   "outputs": [],
   "source": [
    "logical_data = [\n",
    "    (1,'George', 800),\n",
    "    (2,'Sam', 950),\n",
    "    (3,'Diane', 1100),\n",
    "    (4,'Nicholas', 1250),\n",
    "    (5,'Samuel', 1250),\n",
    "    (6,'Patricia', 1300),\n",
    "    (7,'Brian', 1500),\n",
    "    (8,'Thomas', 1600),\n",
    "    (9,'Fran', 2450),\n",
    "    (10,'Debbie', 2850),\n",
    "    (11,'Mark', 2975),\n",
    "    (12,'James', 3000),\n",
    "    (13,'Cynthia', 3000),\n",
    "    (14,'Christopher', 5000)\n",
    "]\n",
    "\n",
    "logical_schema = StructType([\n",
    "    StructField('row_id', IntegerType()),\n",
    "    StructField('first_name', StringType()),\n",
    "    StructField('salary', IntegerType())\n",
    "])\n",
    "\n",
    "logical_df = spark.createDataFrame(logical_data, logical_schema)"
   ],
   "metadata": {
    "collapsed": false
   }
  },
  {
   "cell_type": "code",
   "execution_count": 9,
   "outputs": [
    {
     "data": {
      "text/plain": "   row_id first_name  salary\n0       1     George     800\n1       2        Sam     950\n2       3      Diane    1100\n3       4   Nicholas    1250\n4       5     Samuel    1250\n5       6   Patricia    1300\n6       7      Brian    1500\n7       8     Thomas    1600\n8       9       Fran    2450\n9      10     Debbie    2850",
      "text/html": "<div>\n<style scoped>\n    .dataframe tbody tr th:only-of-type {\n        vertical-align: middle;\n    }\n\n    .dataframe tbody tr th {\n        vertical-align: top;\n    }\n\n    .dataframe thead th {\n        text-align: right;\n    }\n</style>\n<table border=\"1\" class=\"dataframe\">\n  <thead>\n    <tr style=\"text-align: right;\">\n      <th></th>\n      <th>row_id</th>\n      <th>first_name</th>\n      <th>salary</th>\n    </tr>\n  </thead>\n  <tbody>\n    <tr>\n      <th>0</th>\n      <td>1</td>\n      <td>George</td>\n      <td>800</td>\n    </tr>\n    <tr>\n      <th>1</th>\n      <td>2</td>\n      <td>Sam</td>\n      <td>950</td>\n    </tr>\n    <tr>\n      <th>2</th>\n      <td>3</td>\n      <td>Diane</td>\n      <td>1100</td>\n    </tr>\n    <tr>\n      <th>3</th>\n      <td>4</td>\n      <td>Nicholas</td>\n      <td>1250</td>\n    </tr>\n    <tr>\n      <th>4</th>\n      <td>5</td>\n      <td>Samuel</td>\n      <td>1250</td>\n    </tr>\n    <tr>\n      <th>5</th>\n      <td>6</td>\n      <td>Patricia</td>\n      <td>1300</td>\n    </tr>\n    <tr>\n      <th>6</th>\n      <td>7</td>\n      <td>Brian</td>\n      <td>1500</td>\n    </tr>\n    <tr>\n      <th>7</th>\n      <td>8</td>\n      <td>Thomas</td>\n      <td>1600</td>\n    </tr>\n    <tr>\n      <th>8</th>\n      <td>9</td>\n      <td>Fran</td>\n      <td>2450</td>\n    </tr>\n    <tr>\n      <th>9</th>\n      <td>10</td>\n      <td>Debbie</td>\n      <td>2850</td>\n    </tr>\n  </tbody>\n</table>\n</div>"
     },
     "execution_count": 9,
     "metadata": {},
     "output_type": "execute_result"
    }
   ],
   "source": [
    "display_head(logical_df, 10)"
   ],
   "metadata": {
    "collapsed": false
   }
  },
  {
   "cell_type": "code",
   "execution_count": 10,
   "outputs": [],
   "source": [
    "from pyspark.sql import Window\n",
    "from pyspark.sql.functions import sum, mean, count, min, max"
   ],
   "metadata": {
    "collapsed": false
   }
  },
  {
   "cell_type": "code",
   "execution_count": 11,
   "outputs": [],
   "source": [
    "window_spec = Window.partitionBy('account_id').orderBy('transaction_date')"
   ],
   "metadata": {
    "collapsed": false
   }
  },
  {
   "cell_type": "code",
   "execution_count": 12,
   "outputs": [],
   "source": [
    "df = transactions_df \\\n",
    "    .withColumn('running_total_amount', sum('transaction_amount').over(window_spec)) \\\n",
    "    .orderBy('account_id', 'transaction_date')"
   ],
   "metadata": {
    "collapsed": false
   }
  },
  {
   "cell_type": "code",
   "execution_count": 13,
   "outputs": [
    {
     "name": "stderr",
     "output_type": "stream",
     "text": [
      "                                                                                \r"
     ]
    },
    {
     "data": {
      "text/plain": "    account_id transaction_date  transaction_amount  running_total_amount\n0            1       2011-01-01                 500                   500\n1            1       2011-01-15                  50                   550\n2            1       2011-01-22                 250                   800\n3            1       2011-01-24                  75                   875\n4            1       2011-01-26                 125                  1000\n5            1       2011-01-28                 175                  1175\n6            2       2011-01-01                 500                   500\n7            2       2011-01-15                  50                   550\n8            2       2011-01-22                  25                   575\n9            2       2011-01-23                 125                   700\n10           2       2011-01-26                 200                   900\n11           2       2011-01-29                 250                  1150\n12           3       2011-01-01                 500                   500\n13           3       2011-01-15                  50                   550\n14           3       2011-01-22                5000                  5550\n15           3       2011-01-25                 550                  6100\n16           3       2011-01-27                  95                  6195\n17           3       2011-01-30                2500                  8695",
      "text/html": "<div>\n<style scoped>\n    .dataframe tbody tr th:only-of-type {\n        vertical-align: middle;\n    }\n\n    .dataframe tbody tr th {\n        vertical-align: top;\n    }\n\n    .dataframe thead th {\n        text-align: right;\n    }\n</style>\n<table border=\"1\" class=\"dataframe\">\n  <thead>\n    <tr style=\"text-align: right;\">\n      <th></th>\n      <th>account_id</th>\n      <th>transaction_date</th>\n      <th>transaction_amount</th>\n      <th>running_total_amount</th>\n    </tr>\n  </thead>\n  <tbody>\n    <tr>\n      <th>0</th>\n      <td>1</td>\n      <td>2011-01-01</td>\n      <td>500</td>\n      <td>500</td>\n    </tr>\n    <tr>\n      <th>1</th>\n      <td>1</td>\n      <td>2011-01-15</td>\n      <td>50</td>\n      <td>550</td>\n    </tr>\n    <tr>\n      <th>2</th>\n      <td>1</td>\n      <td>2011-01-22</td>\n      <td>250</td>\n      <td>800</td>\n    </tr>\n    <tr>\n      <th>3</th>\n      <td>1</td>\n      <td>2011-01-24</td>\n      <td>75</td>\n      <td>875</td>\n    </tr>\n    <tr>\n      <th>4</th>\n      <td>1</td>\n      <td>2011-01-26</td>\n      <td>125</td>\n      <td>1000</td>\n    </tr>\n    <tr>\n      <th>5</th>\n      <td>1</td>\n      <td>2011-01-28</td>\n      <td>175</td>\n      <td>1175</td>\n    </tr>\n    <tr>\n      <th>6</th>\n      <td>2</td>\n      <td>2011-01-01</td>\n      <td>500</td>\n      <td>500</td>\n    </tr>\n    <tr>\n      <th>7</th>\n      <td>2</td>\n      <td>2011-01-15</td>\n      <td>50</td>\n      <td>550</td>\n    </tr>\n    <tr>\n      <th>8</th>\n      <td>2</td>\n      <td>2011-01-22</td>\n      <td>25</td>\n      <td>575</td>\n    </tr>\n    <tr>\n      <th>9</th>\n      <td>2</td>\n      <td>2011-01-23</td>\n      <td>125</td>\n      <td>700</td>\n    </tr>\n    <tr>\n      <th>10</th>\n      <td>2</td>\n      <td>2011-01-26</td>\n      <td>200</td>\n      <td>900</td>\n    </tr>\n    <tr>\n      <th>11</th>\n      <td>2</td>\n      <td>2011-01-29</td>\n      <td>250</td>\n      <td>1150</td>\n    </tr>\n    <tr>\n      <th>12</th>\n      <td>3</td>\n      <td>2011-01-01</td>\n      <td>500</td>\n      <td>500</td>\n    </tr>\n    <tr>\n      <th>13</th>\n      <td>3</td>\n      <td>2011-01-15</td>\n      <td>50</td>\n      <td>550</td>\n    </tr>\n    <tr>\n      <th>14</th>\n      <td>3</td>\n      <td>2011-01-22</td>\n      <td>5000</td>\n      <td>5550</td>\n    </tr>\n    <tr>\n      <th>15</th>\n      <td>3</td>\n      <td>2011-01-25</td>\n      <td>550</td>\n      <td>6100</td>\n    </tr>\n    <tr>\n      <th>16</th>\n      <td>3</td>\n      <td>2011-01-27</td>\n      <td>95</td>\n      <td>6195</td>\n    </tr>\n    <tr>\n      <th>17</th>\n      <td>3</td>\n      <td>2011-01-30</td>\n      <td>2500</td>\n      <td>8695</td>\n    </tr>\n  </tbody>\n</table>\n</div>"
     },
     "execution_count": 13,
     "metadata": {},
     "output_type": "execute_result"
    }
   ],
   "source": [
    "display_head(df, 20)"
   ],
   "metadata": {
    "collapsed": false
   }
  },
  {
   "cell_type": "code",
   "execution_count": 14,
   "outputs": [],
   "source": [
    "df = transactions_df \\\n",
    "    .withColumn('running_mean_amount', mean('transaction_amount').over(window_spec)) \\\n",
    "    .withColumn('running_transaction_quantity', count('*').over(window_spec)) \\\n",
    "    .withColumn('running_min_amount', min('transaction_amount').over(window_spec)) \\\n",
    "    .withColumn('running_max_amount', max('transaction_amount').over(window_spec)) \\\n",
    "    .withColumn('running_total_amount', sum('transaction_amount').over(window_spec)) \\\n",
    "    .orderBy('account_id', 'transaction_date')"
   ],
   "metadata": {
    "collapsed": false
   }
  },
  {
   "cell_type": "code",
   "execution_count": 15,
   "outputs": [
    {
     "data": {
      "text/plain": "    account_id transaction_date  transaction_amount  running_mean_amount  \\\n0            1       2011-01-01                 500           500.000000   \n1            1       2011-01-15                  50           275.000000   \n2            1       2011-01-22                 250           266.666667   \n3            1       2011-01-24                  75           218.750000   \n4            1       2011-01-26                 125           200.000000   \n5            1       2011-01-28                 175           195.833333   \n6            2       2011-01-01                 500           500.000000   \n7            2       2011-01-15                  50           275.000000   \n8            2       2011-01-22                  25           191.666667   \n9            2       2011-01-23                 125           175.000000   \n10           2       2011-01-26                 200           180.000000   \n11           2       2011-01-29                 250           191.666667   \n12           3       2011-01-01                 500           500.000000   \n13           3       2011-01-15                  50           275.000000   \n14           3       2011-01-22                5000          1850.000000   \n15           3       2011-01-25                 550          1525.000000   \n16           3       2011-01-27                  95          1239.000000   \n17           3       2011-01-30                2500          1449.166667   \n\n    running_transaction_quantity  running_min_amount  running_max_amount  \\\n0                              1                 500                 500   \n1                              2                  50                 500   \n2                              3                  50                 500   \n3                              4                  50                 500   \n4                              5                  50                 500   \n5                              6                  50                 500   \n6                              1                 500                 500   \n7                              2                  50                 500   \n8                              3                  25                 500   \n9                              4                  25                 500   \n10                             5                  25                 500   \n11                             6                  25                 500   \n12                             1                 500                 500   \n13                             2                  50                 500   \n14                             3                  50                5000   \n15                             4                  50                5000   \n16                             5                  50                5000   \n17                             6                  50                5000   \n\n    running_total_amount  \n0                    500  \n1                    550  \n2                    800  \n3                    875  \n4                   1000  \n5                   1175  \n6                    500  \n7                    550  \n8                    575  \n9                    700  \n10                   900  \n11                  1150  \n12                   500  \n13                   550  \n14                  5550  \n15                  6100  \n16                  6195  \n17                  8695  ",
      "text/html": "<div>\n<style scoped>\n    .dataframe tbody tr th:only-of-type {\n        vertical-align: middle;\n    }\n\n    .dataframe tbody tr th {\n        vertical-align: top;\n    }\n\n    .dataframe thead th {\n        text-align: right;\n    }\n</style>\n<table border=\"1\" class=\"dataframe\">\n  <thead>\n    <tr style=\"text-align: right;\">\n      <th></th>\n      <th>account_id</th>\n      <th>transaction_date</th>\n      <th>transaction_amount</th>\n      <th>running_mean_amount</th>\n      <th>running_transaction_quantity</th>\n      <th>running_min_amount</th>\n      <th>running_max_amount</th>\n      <th>running_total_amount</th>\n    </tr>\n  </thead>\n  <tbody>\n    <tr>\n      <th>0</th>\n      <td>1</td>\n      <td>2011-01-01</td>\n      <td>500</td>\n      <td>500.000000</td>\n      <td>1</td>\n      <td>500</td>\n      <td>500</td>\n      <td>500</td>\n    </tr>\n    <tr>\n      <th>1</th>\n      <td>1</td>\n      <td>2011-01-15</td>\n      <td>50</td>\n      <td>275.000000</td>\n      <td>2</td>\n      <td>50</td>\n      <td>500</td>\n      <td>550</td>\n    </tr>\n    <tr>\n      <th>2</th>\n      <td>1</td>\n      <td>2011-01-22</td>\n      <td>250</td>\n      <td>266.666667</td>\n      <td>3</td>\n      <td>50</td>\n      <td>500</td>\n      <td>800</td>\n    </tr>\n    <tr>\n      <th>3</th>\n      <td>1</td>\n      <td>2011-01-24</td>\n      <td>75</td>\n      <td>218.750000</td>\n      <td>4</td>\n      <td>50</td>\n      <td>500</td>\n      <td>875</td>\n    </tr>\n    <tr>\n      <th>4</th>\n      <td>1</td>\n      <td>2011-01-26</td>\n      <td>125</td>\n      <td>200.000000</td>\n      <td>5</td>\n      <td>50</td>\n      <td>500</td>\n      <td>1000</td>\n    </tr>\n    <tr>\n      <th>5</th>\n      <td>1</td>\n      <td>2011-01-28</td>\n      <td>175</td>\n      <td>195.833333</td>\n      <td>6</td>\n      <td>50</td>\n      <td>500</td>\n      <td>1175</td>\n    </tr>\n    <tr>\n      <th>6</th>\n      <td>2</td>\n      <td>2011-01-01</td>\n      <td>500</td>\n      <td>500.000000</td>\n      <td>1</td>\n      <td>500</td>\n      <td>500</td>\n      <td>500</td>\n    </tr>\n    <tr>\n      <th>7</th>\n      <td>2</td>\n      <td>2011-01-15</td>\n      <td>50</td>\n      <td>275.000000</td>\n      <td>2</td>\n      <td>50</td>\n      <td>500</td>\n      <td>550</td>\n    </tr>\n    <tr>\n      <th>8</th>\n      <td>2</td>\n      <td>2011-01-22</td>\n      <td>25</td>\n      <td>191.666667</td>\n      <td>3</td>\n      <td>25</td>\n      <td>500</td>\n      <td>575</td>\n    </tr>\n    <tr>\n      <th>9</th>\n      <td>2</td>\n      <td>2011-01-23</td>\n      <td>125</td>\n      <td>175.000000</td>\n      <td>4</td>\n      <td>25</td>\n      <td>500</td>\n      <td>700</td>\n    </tr>\n    <tr>\n      <th>10</th>\n      <td>2</td>\n      <td>2011-01-26</td>\n      <td>200</td>\n      <td>180.000000</td>\n      <td>5</td>\n      <td>25</td>\n      <td>500</td>\n      <td>900</td>\n    </tr>\n    <tr>\n      <th>11</th>\n      <td>2</td>\n      <td>2011-01-29</td>\n      <td>250</td>\n      <td>191.666667</td>\n      <td>6</td>\n      <td>25</td>\n      <td>500</td>\n      <td>1150</td>\n    </tr>\n    <tr>\n      <th>12</th>\n      <td>3</td>\n      <td>2011-01-01</td>\n      <td>500</td>\n      <td>500.000000</td>\n      <td>1</td>\n      <td>500</td>\n      <td>500</td>\n      <td>500</td>\n    </tr>\n    <tr>\n      <th>13</th>\n      <td>3</td>\n      <td>2011-01-15</td>\n      <td>50</td>\n      <td>275.000000</td>\n      <td>2</td>\n      <td>50</td>\n      <td>500</td>\n      <td>550</td>\n    </tr>\n    <tr>\n      <th>14</th>\n      <td>3</td>\n      <td>2011-01-22</td>\n      <td>5000</td>\n      <td>1850.000000</td>\n      <td>3</td>\n      <td>50</td>\n      <td>5000</td>\n      <td>5550</td>\n    </tr>\n    <tr>\n      <th>15</th>\n      <td>3</td>\n      <td>2011-01-25</td>\n      <td>550</td>\n      <td>1525.000000</td>\n      <td>4</td>\n      <td>50</td>\n      <td>5000</td>\n      <td>6100</td>\n    </tr>\n    <tr>\n      <th>16</th>\n      <td>3</td>\n      <td>2011-01-27</td>\n      <td>95</td>\n      <td>1239.000000</td>\n      <td>5</td>\n      <td>50</td>\n      <td>5000</td>\n      <td>6195</td>\n    </tr>\n    <tr>\n      <th>17</th>\n      <td>3</td>\n      <td>2011-01-30</td>\n      <td>2500</td>\n      <td>1449.166667</td>\n      <td>6</td>\n      <td>50</td>\n      <td>5000</td>\n      <td>8695</td>\n    </tr>\n  </tbody>\n</table>\n</div>"
     },
     "execution_count": 15,
     "metadata": {},
     "output_type": "execute_result"
    }
   ],
   "source": [
    "display_head(df, 20)"
   ],
   "metadata": {
    "collapsed": false
   }
  },
  {
   "cell_type": "code",
   "execution_count": 16,
   "outputs": [],
   "source": [
    "window_spec = Window.partitionBy('account_id').orderBy('transaction_date').rowsBetween(-2, 0)"
   ],
   "metadata": {
    "collapsed": false
   }
  },
  {
   "cell_type": "code",
   "execution_count": 17,
   "outputs": [],
   "source": [
    "df = transactions_df \\\n",
    "    .withColumn('sliding_mean', mean('transaction_amount').over(window_spec)) \\\n",
    "    .withColumn('sliding_count', count('*').over(window_spec)) \\\n",
    "    .withColumn('sliding_min', min('transaction_amount').over(window_spec)) \\\n",
    "    .withColumn('sliding_max', max('transaction_amount').over(window_spec)) \\\n",
    "    .withColumn('sliding_total', sum('transaction_amount').over(window_spec)) \\\n",
    "    .orderBy('account_id', 'transaction_date')"
   ],
   "metadata": {
    "collapsed": false
   }
  },
  {
   "cell_type": "code",
   "execution_count": 18,
   "outputs": [
    {
     "data": {
      "text/plain": "    account_id transaction_date  transaction_amount  sliding_mean  \\\n0            1       2011-01-01                 500    500.000000   \n1            1       2011-01-15                  50    275.000000   \n2            1       2011-01-22                 250    266.666667   \n3            1       2011-01-24                  75    125.000000   \n4            1       2011-01-26                 125    150.000000   \n5            1       2011-01-28                 175    125.000000   \n6            2       2011-01-01                 500    500.000000   \n7            2       2011-01-15                  50    275.000000   \n8            2       2011-01-22                  25    191.666667   \n9            2       2011-01-23                 125     66.666667   \n10           2       2011-01-26                 200    116.666667   \n11           2       2011-01-29                 250    191.666667   \n12           3       2011-01-01                 500    500.000000   \n13           3       2011-01-15                  50    275.000000   \n14           3       2011-01-22                5000   1850.000000   \n15           3       2011-01-25                 550   1866.666667   \n16           3       2011-01-27                  95   1881.666667   \n17           3       2011-01-30                2500   1048.333333   \n\n    sliding_count  sliding_min  sliding_max  sliding_total  \n0               1          500          500            500  \n1               2           50          500            550  \n2               3           50          500            800  \n3               3           50          250            375  \n4               3           75          250            450  \n5               3           75          175            375  \n6               1          500          500            500  \n7               2           50          500            550  \n8               3           25          500            575  \n9               3           25          125            200  \n10              3           25          200            350  \n11              3          125          250            575  \n12              1          500          500            500  \n13              2           50          500            550  \n14              3           50         5000           5550  \n15              3           50         5000           5600  \n16              3           95         5000           5645  \n17              3           95         2500           3145  ",
      "text/html": "<div>\n<style scoped>\n    .dataframe tbody tr th:only-of-type {\n        vertical-align: middle;\n    }\n\n    .dataframe tbody tr th {\n        vertical-align: top;\n    }\n\n    .dataframe thead th {\n        text-align: right;\n    }\n</style>\n<table border=\"1\" class=\"dataframe\">\n  <thead>\n    <tr style=\"text-align: right;\">\n      <th></th>\n      <th>account_id</th>\n      <th>transaction_date</th>\n      <th>transaction_amount</th>\n      <th>sliding_mean</th>\n      <th>sliding_count</th>\n      <th>sliding_min</th>\n      <th>sliding_max</th>\n      <th>sliding_total</th>\n    </tr>\n  </thead>\n  <tbody>\n    <tr>\n      <th>0</th>\n      <td>1</td>\n      <td>2011-01-01</td>\n      <td>500</td>\n      <td>500.000000</td>\n      <td>1</td>\n      <td>500</td>\n      <td>500</td>\n      <td>500</td>\n    </tr>\n    <tr>\n      <th>1</th>\n      <td>1</td>\n      <td>2011-01-15</td>\n      <td>50</td>\n      <td>275.000000</td>\n      <td>2</td>\n      <td>50</td>\n      <td>500</td>\n      <td>550</td>\n    </tr>\n    <tr>\n      <th>2</th>\n      <td>1</td>\n      <td>2011-01-22</td>\n      <td>250</td>\n      <td>266.666667</td>\n      <td>3</td>\n      <td>50</td>\n      <td>500</td>\n      <td>800</td>\n    </tr>\n    <tr>\n      <th>3</th>\n      <td>1</td>\n      <td>2011-01-24</td>\n      <td>75</td>\n      <td>125.000000</td>\n      <td>3</td>\n      <td>50</td>\n      <td>250</td>\n      <td>375</td>\n    </tr>\n    <tr>\n      <th>4</th>\n      <td>1</td>\n      <td>2011-01-26</td>\n      <td>125</td>\n      <td>150.000000</td>\n      <td>3</td>\n      <td>75</td>\n      <td>250</td>\n      <td>450</td>\n    </tr>\n    <tr>\n      <th>5</th>\n      <td>1</td>\n      <td>2011-01-28</td>\n      <td>175</td>\n      <td>125.000000</td>\n      <td>3</td>\n      <td>75</td>\n      <td>175</td>\n      <td>375</td>\n    </tr>\n    <tr>\n      <th>6</th>\n      <td>2</td>\n      <td>2011-01-01</td>\n      <td>500</td>\n      <td>500.000000</td>\n      <td>1</td>\n      <td>500</td>\n      <td>500</td>\n      <td>500</td>\n    </tr>\n    <tr>\n      <th>7</th>\n      <td>2</td>\n      <td>2011-01-15</td>\n      <td>50</td>\n      <td>275.000000</td>\n      <td>2</td>\n      <td>50</td>\n      <td>500</td>\n      <td>550</td>\n    </tr>\n    <tr>\n      <th>8</th>\n      <td>2</td>\n      <td>2011-01-22</td>\n      <td>25</td>\n      <td>191.666667</td>\n      <td>3</td>\n      <td>25</td>\n      <td>500</td>\n      <td>575</td>\n    </tr>\n    <tr>\n      <th>9</th>\n      <td>2</td>\n      <td>2011-01-23</td>\n      <td>125</td>\n      <td>66.666667</td>\n      <td>3</td>\n      <td>25</td>\n      <td>125</td>\n      <td>200</td>\n    </tr>\n    <tr>\n      <th>10</th>\n      <td>2</td>\n      <td>2011-01-26</td>\n      <td>200</td>\n      <td>116.666667</td>\n      <td>3</td>\n      <td>25</td>\n      <td>200</td>\n      <td>350</td>\n    </tr>\n    <tr>\n      <th>11</th>\n      <td>2</td>\n      <td>2011-01-29</td>\n      <td>250</td>\n      <td>191.666667</td>\n      <td>3</td>\n      <td>125</td>\n      <td>250</td>\n      <td>575</td>\n    </tr>\n    <tr>\n      <th>12</th>\n      <td>3</td>\n      <td>2011-01-01</td>\n      <td>500</td>\n      <td>500.000000</td>\n      <td>1</td>\n      <td>500</td>\n      <td>500</td>\n      <td>500</td>\n    </tr>\n    <tr>\n      <th>13</th>\n      <td>3</td>\n      <td>2011-01-15</td>\n      <td>50</td>\n      <td>275.000000</td>\n      <td>2</td>\n      <td>50</td>\n      <td>500</td>\n      <td>550</td>\n    </tr>\n    <tr>\n      <th>14</th>\n      <td>3</td>\n      <td>2011-01-22</td>\n      <td>5000</td>\n      <td>1850.000000</td>\n      <td>3</td>\n      <td>50</td>\n      <td>5000</td>\n      <td>5550</td>\n    </tr>\n    <tr>\n      <th>15</th>\n      <td>3</td>\n      <td>2011-01-25</td>\n      <td>550</td>\n      <td>1866.666667</td>\n      <td>3</td>\n      <td>50</td>\n      <td>5000</td>\n      <td>5600</td>\n    </tr>\n    <tr>\n      <th>16</th>\n      <td>3</td>\n      <td>2011-01-27</td>\n      <td>95</td>\n      <td>1881.666667</td>\n      <td>3</td>\n      <td>95</td>\n      <td>5000</td>\n      <td>5645</td>\n    </tr>\n    <tr>\n      <th>17</th>\n      <td>3</td>\n      <td>2011-01-30</td>\n      <td>2500</td>\n      <td>1048.333333</td>\n      <td>3</td>\n      <td>95</td>\n      <td>2500</td>\n      <td>3145</td>\n    </tr>\n  </tbody>\n</table>\n</div>"
     },
     "execution_count": 18,
     "metadata": {},
     "output_type": "execute_result"
    }
   ],
   "source": [
    "display_head(df, 20)"
   ],
   "metadata": {
    "collapsed": false
   }
  },
  {
   "cell_type": "code",
   "execution_count": 19,
   "outputs": [],
   "source": [
    "window_rows = Window.orderBy('salary').rowsBetween(Window.unboundedPreceding, Window.currentRow)\n",
    "\n",
    "window_range = Window.orderBy('salary').rangeBetween(Window.unboundedPreceding, Window.currentRow)"
   ],
   "metadata": {
    "collapsed": false
   }
  },
  {
   "cell_type": "code",
   "execution_count": 20,
   "outputs": [],
   "source": [
    "df = logical_df \\\n",
    "    .withColumn('sum_by_rows', sum('salary').over(window_rows)) \\\n",
    "    .withColumn('sum_by_range', sum('salary').over(window_range))"
   ],
   "metadata": {
    "collapsed": false
   }
  },
  {
   "cell_type": "code",
   "execution_count": 21,
   "outputs": [
    {
     "name": "stdout",
     "output_type": "stream",
     "text": [
      "23/04/10 20:24:06 WARN WindowExec: No Partition Defined for Window operation! Moving all data to a single partition, this can cause serious performance degradation.\n",
      "23/04/10 20:24:06 WARN WindowExec: No Partition Defined for Window operation! Moving all data to a single partition, this can cause serious performance degradation.\n",
      "23/04/10 20:24:06 WARN WindowExec: No Partition Defined for Window operation! Moving all data to a single partition, this can cause serious performance degradation.\n",
      "23/04/10 20:24:07 WARN WindowExec: No Partition Defined for Window operation! Moving all data to a single partition, this can cause serious performance degradation.\n",
      "23/04/10 20:24:07 WARN WindowExec: No Partition Defined for Window operation! Moving all data to a single partition, this can cause serious performance degradation.\n"
     ]
    },
    {
     "data": {
      "text/plain": "    row_id   first_name  salary  sum_by_rows  sum_by_range\n0        1       George     800          800           800\n1        2          Sam     950         1750          1750\n2        3        Diane    1100         2850          2850\n3        4     Nicholas    1250         4100          5350\n4        5       Samuel    1250         5350          5350\n5        6     Patricia    1300         6650          6650\n6        7        Brian    1500         8150          8150\n7        8       Thomas    1600         9750          9750\n8        9         Fran    2450        12200         12200\n9       10       Debbie    2850        15050         15050\n10      11         Mark    2975        18025         18025\n11      12        James    3000        21025         24025\n12      13      Cynthia    3000        24025         24025\n13      14  Christopher    5000        29025         29025",
      "text/html": "<div>\n<style scoped>\n    .dataframe tbody tr th:only-of-type {\n        vertical-align: middle;\n    }\n\n    .dataframe tbody tr th {\n        vertical-align: top;\n    }\n\n    .dataframe thead th {\n        text-align: right;\n    }\n</style>\n<table border=\"1\" class=\"dataframe\">\n  <thead>\n    <tr style=\"text-align: right;\">\n      <th></th>\n      <th>row_id</th>\n      <th>first_name</th>\n      <th>salary</th>\n      <th>sum_by_rows</th>\n      <th>sum_by_range</th>\n    </tr>\n  </thead>\n  <tbody>\n    <tr>\n      <th>0</th>\n      <td>1</td>\n      <td>George</td>\n      <td>800</td>\n      <td>800</td>\n      <td>800</td>\n    </tr>\n    <tr>\n      <th>1</th>\n      <td>2</td>\n      <td>Sam</td>\n      <td>950</td>\n      <td>1750</td>\n      <td>1750</td>\n    </tr>\n    <tr>\n      <th>2</th>\n      <td>3</td>\n      <td>Diane</td>\n      <td>1100</td>\n      <td>2850</td>\n      <td>2850</td>\n    </tr>\n    <tr>\n      <th>3</th>\n      <td>4</td>\n      <td>Nicholas</td>\n      <td>1250</td>\n      <td>4100</td>\n      <td>5350</td>\n    </tr>\n    <tr>\n      <th>4</th>\n      <td>5</td>\n      <td>Samuel</td>\n      <td>1250</td>\n      <td>5350</td>\n      <td>5350</td>\n    </tr>\n    <tr>\n      <th>5</th>\n      <td>6</td>\n      <td>Patricia</td>\n      <td>1300</td>\n      <td>6650</td>\n      <td>6650</td>\n    </tr>\n    <tr>\n      <th>6</th>\n      <td>7</td>\n      <td>Brian</td>\n      <td>1500</td>\n      <td>8150</td>\n      <td>8150</td>\n    </tr>\n    <tr>\n      <th>7</th>\n      <td>8</td>\n      <td>Thomas</td>\n      <td>1600</td>\n      <td>9750</td>\n      <td>9750</td>\n    </tr>\n    <tr>\n      <th>8</th>\n      <td>9</td>\n      <td>Fran</td>\n      <td>2450</td>\n      <td>12200</td>\n      <td>12200</td>\n    </tr>\n    <tr>\n      <th>9</th>\n      <td>10</td>\n      <td>Debbie</td>\n      <td>2850</td>\n      <td>15050</td>\n      <td>15050</td>\n    </tr>\n    <tr>\n      <th>10</th>\n      <td>11</td>\n      <td>Mark</td>\n      <td>2975</td>\n      <td>18025</td>\n      <td>18025</td>\n    </tr>\n    <tr>\n      <th>11</th>\n      <td>12</td>\n      <td>James</td>\n      <td>3000</td>\n      <td>21025</td>\n      <td>24025</td>\n    </tr>\n    <tr>\n      <th>12</th>\n      <td>13</td>\n      <td>Cynthia</td>\n      <td>3000</td>\n      <td>24025</td>\n      <td>24025</td>\n    </tr>\n    <tr>\n      <th>13</th>\n      <td>14</td>\n      <td>Christopher</td>\n      <td>5000</td>\n      <td>29025</td>\n      <td>29025</td>\n    </tr>\n  </tbody>\n</table>\n</div>"
     },
     "execution_count": 21,
     "metadata": {},
     "output_type": "execute_result"
    }
   ],
   "source": [
    "display_head(df, 20)"
   ],
   "metadata": {
    "collapsed": false
   }
  },
  {
   "cell_type": "markdown",
   "source": [
    "## Zadanie 4"
   ],
   "metadata": {
    "collapsed": false
   }
  },
  {
   "cell_type": "code",
   "execution_count": 23,
   "outputs": [],
   "source": [
    "from pyspark.sql.functions import lead, lag, row_number"
   ],
   "metadata": {
    "collapsed": false
   }
  },
  {
   "cell_type": "code",
   "execution_count": 24,
   "outputs": [],
   "source": [
    "window_spec = Window.partitionBy('account_id').orderBy('transaction_date')"
   ],
   "metadata": {
    "collapsed": false
   }
  },
  {
   "cell_type": "code",
   "execution_count": 25,
   "outputs": [],
   "source": [
    "df = transactions_df \\\n",
    "    .withColumn('next_amount', lead('transaction_amount').over(window_spec)) \\\n",
    "    .withColumn('previous_amount', lag('transaction_amount').over(window_spec)) \\\n",
    "    .withColumn('row_number', row_number().over(window_spec)) \\\n",
    "    .orderBy('account_id', 'transaction_date')"
   ],
   "metadata": {
    "collapsed": false
   }
  },
  {
   "cell_type": "code",
   "execution_count": 26,
   "outputs": [
    {
     "data": {
      "text/plain": "    account_id transaction_date  transaction_amount  next_amount  \\\n0            1       2011-01-01                 500         50.0   \n1            1       2011-01-15                  50        250.0   \n2            1       2011-01-22                 250         75.0   \n3            1       2011-01-24                  75        125.0   \n4            1       2011-01-26                 125        175.0   \n5            1       2011-01-28                 175          NaN   \n6            2       2011-01-01                 500         50.0   \n7            2       2011-01-15                  50         25.0   \n8            2       2011-01-22                  25        125.0   \n9            2       2011-01-23                 125        200.0   \n10           2       2011-01-26                 200        250.0   \n11           2       2011-01-29                 250          NaN   \n12           3       2011-01-01                 500         50.0   \n13           3       2011-01-15                  50       5000.0   \n14           3       2011-01-22                5000        550.0   \n15           3       2011-01-25                 550         95.0   \n16           3       2011-01-27                  95       2500.0   \n17           3       2011-01-30                2500          NaN   \n\n    previous_amount  row_number  \n0               NaN           1  \n1             500.0           2  \n2              50.0           3  \n3             250.0           4  \n4              75.0           5  \n5             125.0           6  \n6               NaN           1  \n7             500.0           2  \n8              50.0           3  \n9              25.0           4  \n10            125.0           5  \n11            200.0           6  \n12              NaN           1  \n13            500.0           2  \n14             50.0           3  \n15           5000.0           4  \n16            550.0           5  \n17             95.0           6  ",
      "text/html": "<div>\n<style scoped>\n    .dataframe tbody tr th:only-of-type {\n        vertical-align: middle;\n    }\n\n    .dataframe tbody tr th {\n        vertical-align: top;\n    }\n\n    .dataframe thead th {\n        text-align: right;\n    }\n</style>\n<table border=\"1\" class=\"dataframe\">\n  <thead>\n    <tr style=\"text-align: right;\">\n      <th></th>\n      <th>account_id</th>\n      <th>transaction_date</th>\n      <th>transaction_amount</th>\n      <th>next_amount</th>\n      <th>previous_amount</th>\n      <th>row_number</th>\n    </tr>\n  </thead>\n  <tbody>\n    <tr>\n      <th>0</th>\n      <td>1</td>\n      <td>2011-01-01</td>\n      <td>500</td>\n      <td>50.0</td>\n      <td>NaN</td>\n      <td>1</td>\n    </tr>\n    <tr>\n      <th>1</th>\n      <td>1</td>\n      <td>2011-01-15</td>\n      <td>50</td>\n      <td>250.0</td>\n      <td>500.0</td>\n      <td>2</td>\n    </tr>\n    <tr>\n      <th>2</th>\n      <td>1</td>\n      <td>2011-01-22</td>\n      <td>250</td>\n      <td>75.0</td>\n      <td>50.0</td>\n      <td>3</td>\n    </tr>\n    <tr>\n      <th>3</th>\n      <td>1</td>\n      <td>2011-01-24</td>\n      <td>75</td>\n      <td>125.0</td>\n      <td>250.0</td>\n      <td>4</td>\n    </tr>\n    <tr>\n      <th>4</th>\n      <td>1</td>\n      <td>2011-01-26</td>\n      <td>125</td>\n      <td>175.0</td>\n      <td>75.0</td>\n      <td>5</td>\n    </tr>\n    <tr>\n      <th>5</th>\n      <td>1</td>\n      <td>2011-01-28</td>\n      <td>175</td>\n      <td>NaN</td>\n      <td>125.0</td>\n      <td>6</td>\n    </tr>\n    <tr>\n      <th>6</th>\n      <td>2</td>\n      <td>2011-01-01</td>\n      <td>500</td>\n      <td>50.0</td>\n      <td>NaN</td>\n      <td>1</td>\n    </tr>\n    <tr>\n      <th>7</th>\n      <td>2</td>\n      <td>2011-01-15</td>\n      <td>50</td>\n      <td>25.0</td>\n      <td>500.0</td>\n      <td>2</td>\n    </tr>\n    <tr>\n      <th>8</th>\n      <td>2</td>\n      <td>2011-01-22</td>\n      <td>25</td>\n      <td>125.0</td>\n      <td>50.0</td>\n      <td>3</td>\n    </tr>\n    <tr>\n      <th>9</th>\n      <td>2</td>\n      <td>2011-01-23</td>\n      <td>125</td>\n      <td>200.0</td>\n      <td>25.0</td>\n      <td>4</td>\n    </tr>\n    <tr>\n      <th>10</th>\n      <td>2</td>\n      <td>2011-01-26</td>\n      <td>200</td>\n      <td>250.0</td>\n      <td>125.0</td>\n      <td>5</td>\n    </tr>\n    <tr>\n      <th>11</th>\n      <td>2</td>\n      <td>2011-01-29</td>\n      <td>250</td>\n      <td>NaN</td>\n      <td>200.0</td>\n      <td>6</td>\n    </tr>\n    <tr>\n      <th>12</th>\n      <td>3</td>\n      <td>2011-01-01</td>\n      <td>500</td>\n      <td>50.0</td>\n      <td>NaN</td>\n      <td>1</td>\n    </tr>\n    <tr>\n      <th>13</th>\n      <td>3</td>\n      <td>2011-01-15</td>\n      <td>50</td>\n      <td>5000.0</td>\n      <td>500.0</td>\n      <td>2</td>\n    </tr>\n    <tr>\n      <th>14</th>\n      <td>3</td>\n      <td>2011-01-22</td>\n      <td>5000</td>\n      <td>550.0</td>\n      <td>50.0</td>\n      <td>3</td>\n    </tr>\n    <tr>\n      <th>15</th>\n      <td>3</td>\n      <td>2011-01-25</td>\n      <td>550</td>\n      <td>95.0</td>\n      <td>5000.0</td>\n      <td>4</td>\n    </tr>\n    <tr>\n      <th>16</th>\n      <td>3</td>\n      <td>2011-01-27</td>\n      <td>95</td>\n      <td>2500.0</td>\n      <td>550.0</td>\n      <td>5</td>\n    </tr>\n    <tr>\n      <th>17</th>\n      <td>3</td>\n      <td>2011-01-30</td>\n      <td>2500</td>\n      <td>NaN</td>\n      <td>95.0</td>\n      <td>6</td>\n    </tr>\n  </tbody>\n</table>\n</div>"
     },
     "execution_count": 26,
     "metadata": {},
     "output_type": "execute_result"
    }
   ],
   "source": [
    "display_head(df, 20)"
   ],
   "metadata": {
    "collapsed": false
   }
  }
 ],
 "metadata": {
  "kernelspec": {
   "name": "big-data-env",
   "language": "python",
   "display_name": "big-data-env"
  },
  "language_info": {
   "codemirror_mode": {
    "name": "ipython",
    "version": 2
   },
   "file_extension": ".py",
   "mimetype": "text/x-python",
   "name": "python",
   "nbconvert_exporter": "python",
   "pygments_lexer": "ipython2",
   "version": "2.7.6"
  }
 },
 "nbformat": 4,
 "nbformat_minor": 0
}
